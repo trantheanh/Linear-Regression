{
 "cells": [
  {
   "cell_type": "markdown",
   "metadata": {
    "colab_type": "text",
    "id": "PhC2_BGOqEm1"
   },
   "source": [
    "# LINEAR REGRESSION - n Variable\n",
    "\n",
    "**Model: **\n",
    "$$ \\hat{y} = w_1 x_1 + w_2 x_2 + ... + w_n x_n + b$$\n",
    "\n",
    "**Loss function: **\n",
    "$$ \\mathcal{L} (a) = \\frac{1}{2m} \\sum ^{m} _{i=1} (\\hat{y} - y)^{2} $$\n",
    "\n",
    "**Loss function derivative (gradient, slope): **\n",
    "$$ \\mathcal{L}' (w_1) = \\frac{\\partial \\mathcal{L}}{\\partial w_1} = \\frac{1}{m} \\sum ^{m} _{i=1} (\\hat{y} - y) x_1 $$ \n",
    "$$ \\mathcal{L}' (w_2) = \\frac{\\partial \\mathcal{L}}{\\partial w_2} = \\frac{1}{m} \\sum ^{m} _{i=1} (\\hat{y} - y) x_2 $$ \n",
    "$$ ... $$\n",
    "$$ \\mathcal{L}' (w_n) = \\frac{\\partial \\mathcal{L}}{\\partial w_n} = \\frac{1}{m} \\sum ^{m} _{i=1} (\\hat{y} - y) x_n $$ \n",
    "$$ \\mathcal{L}' (b) = \\frac{\\partial \\mathcal{L}}{\\partial b} = \\frac{1}{m} \\sum ^{m} _{i=1} (\\hat{y} - y) $$"
   ]
  },
  {
   "cell_type": "code",
   "execution_count": 1,
   "metadata": {
    "colab": {
     "autoexec": {
      "startup": false,
      "wait_interval": 0
     }
    },
    "colab_type": "code",
    "collapsed": true,
    "id": "24gJBvHHqTZd"
   },
   "outputs": [],
   "source": [
    "import numpy as np\n",
    "import random\n",
    "import matplotlib.pyplot as plt"
   ]
  },
  {
   "cell_type": "markdown",
   "metadata": {
    "colab_type": "text",
    "id": "4dbv-bsgqaUt"
   },
   "source": [
    "**Implement with for-loop**"
   ]
  },
  {
   "cell_type": "code",
   "execution_count": 2,
   "metadata": {
    "colab": {
     "autoexec": {
      "startup": false,
      "wait_interval": 0
     }
    },
    "colab_type": "code",
    "collapsed": true,
    "id": "Nz60r8MFqb2a"
   },
   "outputs": [],
   "source": [
    "class model_1():\n",
    "    def __init__(self,\n",
    "                X_train,\n",
    "                Y_train,\n",
    "                num_step = 10000,\n",
    "                lr = 0.1):\n",
    "        self.X_train = X_train\n",
    "        self.Y_train = Y_train\n",
    "        self.num_step = num_step\n",
    "        self.lr = lr\n",
    "        \n",
    "    # Initialize weight and bias\n",
    "    def initialize(self):\n",
    "        self.W = [0 for _ in range(len(self.X_train[0]))]\n",
    "        self.b = 0\n",
    "\n",
    "    # Prediction of 1 data point\n",
    "    def predict(self, x):\n",
    "        y_hat = 0;\n",
    "        for i in range(len(self.W)):\n",
    "            y_hat += self.W[i] * x[i]\n",
    "\n",
    "        y_hat += self.b\n",
    "        return y_hat\n",
    "\n",
    "    # Gradient of 1 data point\n",
    "    def grad(self,x, y):\n",
    "        dW = []\n",
    "        db = 0\n",
    "        y_hat = self.predict(x)\n",
    "        \n",
    "        for i in range(len(self.W)):\n",
    "            dW.append((y_hat - y) * x[i])\n",
    "\n",
    "        db = (y_hat - y)\n",
    "\n",
    "        return {\"dW\":dW, \"db\" : db}\n",
    "\n",
    "    # Gradient of all data point\n",
    "    def grads(self):\n",
    "        dW = [0 for _ in range(len(self.W))]\n",
    "        db = 0\n",
    "        m = len(self.Y_train)\n",
    "\n",
    "        for i in range(m):\n",
    "            x = self.X_train[i]\n",
    "            y = self.Y_train[i]\n",
    "            gradient = self.grad(x,y)\n",
    "            for j in range(len(gradient[\"dW\"])):\n",
    "                dW[j] += gradient[\"dW\"][j]/m\n",
    "            db += gradient[\"db\"]/m\n",
    "\n",
    "        return {\"dW\":dW, \"db\" : db}\n",
    "\n",
    "    # Calculate loss with respect to W and b\n",
    "    def loss(self):\n",
    "        total = 0\n",
    "        m = len(self.Y_train)\n",
    "        for i in range(m):\n",
    "            x = self.X_train[i]\n",
    "            y = self.Y_train[i]\n",
    "            y_hat = self.predict(x)\n",
    "            total = total + (y_hat - y)**2\n",
    "        return total* 1 / (2*m)\n",
    "\n",
    "    def train(self):\n",
    "        self.initialize()\n",
    "        for i in range(self.num_step):\n",
    "            gradient = self.grads()\n",
    "            for j in range(len(self.W)):\n",
    "                self.W[j] = self.W[j] - self.lr * gradient[\"dW\"][j]\n",
    "\n",
    "            self.b = self.b - self.lr * gradient[\"db\"]\n",
    "\n",
    "            if i%500==0:\n",
    "                print(\"At step \" + str(i) + \" \" + str(self.loss()))\n",
    "\n",
    "        print(\"W :\" + str(self.W))\n",
    "        print(\"b :\" + str(self.b))"
   ]
  },
  {
   "cell_type": "code",
   "execution_count": 3,
   "metadata": {
    "colab": {
     "autoexec": {
      "startup": false,
      "wait_interval": 0
     }
    },
    "colab_type": "code",
    "collapsed": true,
    "id": "x6EZY02HqgMW"
   },
   "outputs": [],
   "source": [
    "def genData_model_1():\n",
    "    x_train = []\n",
    "    y_train = []\n",
    "    W = [2]\n",
    "    b = 10\n",
    "    m = 1000\n",
    "    for i in range(m):\n",
    "        x = []\n",
    "        y = 0\n",
    "\n",
    "        for j in range(len(W)):\n",
    "            xj = random.randint(0, 1)\n",
    "            y += xj * W[j]\n",
    "            x.append(xj)\n",
    "\n",
    "        y += b\n",
    "        x_train.append(x)\n",
    "        y_train.append(y)\n",
    "    return x_train, y_train"
   ]
  },
  {
   "cell_type": "code",
   "execution_count": 4,
   "metadata": {
    "colab": {
     "autoexec": {
      "startup": false,
      "wait_interval": 0
     },
     "base_uri": "https://localhost:8080/",
     "height": 399,
     "output_extras": [
      {
       "item_id": 21
      }
     ]
    },
    "colab_type": "code",
    "executionInfo": {
     "elapsed": 17642,
     "status": "ok",
     "timestamp": 1519895034314,
     "user": {
      "displayName": "Anh T",
      "photoUrl": "//lh5.googleusercontent.com/-JhB2CiVLpeg/AAAAAAAAAAI/AAAAAAAAAQw/WH4vHOpc7Qo/s50-c-k-no/photo.jpg",
      "userId": "102252323304157157430"
     },
     "user_tz": -420
    },
    "id": "1VMMVX7OqjCq",
    "outputId": "57a50b64-8095-4a78-a81d-de90e24a6da7"
   },
   "outputs": [
    {
     "name": "stdout",
     "output_type": "stream",
     "text": [
      "At step 0 26.3501181875\n",
      "At step 500 1.06269451524\n",
      "At step 1000 0.323924639618\n",
      "At step 1500 0.176715019809\n",
      "At step 2000 0.0992681280525\n",
      "At step 2500 0.0558217156453\n",
      "At step 3000 0.0313915460759\n",
      "At step 3500 0.0176531740818\n",
      "At step 4000 0.0099273405948\n",
      "At step 4500 0.00558268394065\n",
      "At step 5000 0.00313944703372\n",
      "At step 5500 0.00176548194064\n",
      "At step 6000 0.000992826586739\n",
      "At step 6500 0.000558320427213\n",
      "At step 7000 0.000313973964443\n",
      "At step 7500 0.000176564649157\n",
      "At step 8000 9.92919122683e-05\n",
      "At step 8500 5.58372465211e-05\n",
      "At step 9000 3.14003228242e-05\n",
      "At step 9500 1.76581105784e-05\n",
      "W :[2.008682060064042]\n",
      "b :9.99468235417\n"
     ]
    }
   ],
   "source": [
    "X_1,Y_1 = genData_model_1()\n",
    "model = model_1(X_train = X_1, Y_train = Y_1, num_step = 10000, lr = 0.003)\n",
    "model.train()"
   ]
  },
  {
   "cell_type": "markdown",
   "metadata": {
    "colab_type": "text",
    "id": "rUhs3uvcqoE_"
   },
   "source": [
    "**Implement with vectorize**"
   ]
  },
  {
   "cell_type": "markdown",
   "metadata": {
    "colab_type": "text",
    "id": "9K7RhJKhqtlg"
   },
   "source": [
    "**Input:** \n",
    "\n",
    "Training set contain m data point which is represented by a matrix **X** with m column and each column is one data point with n features.\n",
    "\n",
    "$$ \n",
    "X = \\begin{bmatrix}\n",
    "x^{(1)}_1 \\space \\space \\space x^{(2)}_1 \\space \\space \\space x^{(3)}_1 \\space \\space \\space ... \\space \\space \\space x^{(m)}_1 \\\\\n",
    "x^{(1)}_2 \\space \\space \\space x^{(2)}_2 \\space \\space \\space x^{(3)}_2 \\space \\space \\space ... \\space \\space \\space x^{(m)}_2 \\\\\n",
    "\\vdots \\\\\n",
    "x^{(1)}_n \\space \\space \\space x^{(2)}_n \\space \\space \\space x^{(3)}_n \\space \\space \\space ... \\space \\space \\space x^{(m)}_n \\\\\n",
    "\\end{bmatrix}\n",
    "$$\n",
    "\n",
    "**Model: **\n",
    "$$ \\hat{Y} = WX + b$$\n",
    "\n",
    "** With: **\n",
    "\n",
    "$$ \n",
    "Y = \\begin{bmatrix}\n",
    "y^{(1)} \\space \\space \\space x^{(2)} \\space \\space \\space x^{(3)} \\space \\space \\space ... \\space \\space \\space y^{(m)}\n",
    "\\end{bmatrix}\n",
    "$$\n",
    "\n",
    "$$ \n",
    "W = \\begin{bmatrix}\n",
    "w_{1} \\space \\space w_{2} \\space \\space w_{3} \\space \\space ... \\space \\space w_{n}\n",
    "\\end{bmatrix}\n",
    "$$\n",
    "\n",
    "\n",
    "**Loss function: **\n",
    "$$ \\mathcal{L} (a) = \\frac{1}{2m} \\sum ^{m} _{i=1} (\\hat{Y} - Y)^{2} $$\n",
    "\n",
    "**Loss function derivative (gradient, slope): **\n",
    "$$ \\mathcal{L}' (W) = \\frac{\\partial \\mathcal{L}}{\\partial W} = \\frac{1}{m} (\\hat{Y} - Y) X^T $$ \n",
    "$$ \\mathcal{L}' (b) = \\frac{\\partial \\mathcal{L}}{\\partial b} = \\frac{1}{m} \\sum ^{m} _{i=1} (\\hat{Y} - Y) $$"
   ]
  },
  {
   "cell_type": "code",
   "execution_count": 27,
   "metadata": {
    "colab": {
     "autoexec": {
      "startup": false,
      "wait_interval": 0
     }
    },
    "colab_type": "code",
    "collapsed": true,
    "id": "PDS_rVxVqoz7"
   },
   "outputs": [],
   "source": [
    "class model_2():\n",
    "    \n",
    "    def __init__(self,\n",
    "                 X_train,\n",
    "                 Y_train,\n",
    "                 num_step = 10000,\n",
    "                 lr = 0.1):\n",
    "        self.X_train = X_train\n",
    "        self.Y_train = Y_train\n",
    "        self.num_step = num_step\n",
    "        self.lr = lr\n",
    "        \n",
    "    def initialize(self):\n",
    "        self.W = np.random.rand(1, self.X_train.shape[0])\n",
    "        self.b = 0\n",
    "        \n",
    "    # Prediction of datas point\n",
    "    # X : matrix (n x m)\n",
    "    # W : vector n dimension\n",
    "    # b : scalar\n",
    "    def predict(self,X):\n",
    "        Y_hat = np.dot(self.W, X) + self.b\n",
    "        return Y_hat\n",
    "\n",
    "    # Gradient on data set\n",
    "    # X : matrix (m x n)\n",
    "    # Y : matrix (m x 1)\n",
    "    # W : Vector n dimension\n",
    "    # b : scalar\n",
    "    def grad(self):\n",
    "        m = self.Y_train.shape[0] * 1.0\n",
    "        Y_hat = self.predict(self.X_train)\n",
    "        dW = 1/m * np.dot((Y_hat - self.Y_train), np.transpose(self.X_train))\n",
    "        db = 1/m * np.sum(Y_hat - self.Y_train)    \n",
    "        return {\"dW\":dW, \"db\" : db}\n",
    "\n",
    "    def loss(self):\n",
    "        m = self.Y_train.shape[0]\n",
    "        Y_hat = self.predict(self.X_train) \n",
    "        return 1/(2.0*m) * np.sum(np.square(Y_hat - self.Y_train))\n",
    "\n",
    "    def train(self):\n",
    "        self.initialize()\n",
    "        self.losses = []\n",
    "        for i in range(self.num_step):\n",
    "            gradient = self.grad()\n",
    "            self.W = self.W - self.lr * gradient[\"dW\"]\n",
    "            self.b = self.b - self.lr * gradient[\"db\"]\n",
    "            self.losses.append(self.loss())\n",
    "\n",
    "            if i%500==0:\n",
    "                print(\"At step \" + str(i) + \" \" + str(self.losses[-1]))\n",
    "\n",
    "        print(\"W :\" + str(self.W))\n",
    "        print(\"b :\" + str(self.b))"
   ]
  },
  {
   "cell_type": "code",
   "execution_count": 28,
   "metadata": {
    "colab": {
     "autoexec": {
      "startup": false,
      "wait_interval": 0
     }
    },
    "colab_type": "code",
    "collapsed": true,
    "id": "QQO773Ryq5u2"
   },
   "outputs": [],
   "source": [
    "def genData_model_2():\n",
    "    W = np.array([[2]])\n",
    "    b = 10\n",
    "    m = 1000\n",
    "    X_train = np.random.rand(W.shape[1], m)\n",
    "    Y_train = np.dot(W, X_train) + b\n",
    "    return X_train, Y_train"
   ]
  },
  {
   "cell_type": "code",
   "execution_count": 38,
   "metadata": {
    "colab": {
     "autoexec": {
      "startup": false,
      "wait_interval": 0
     },
     "base_uri": "https://localhost:8080/",
     "height": 197,
     "output_extras": [
      {
       "item_id": 1
      }
     ]
    },
    "colab_type": "code",
    "executionInfo": {
     "elapsed": 2116,
     "status": "error",
     "timestamp": 1520154004924,
     "user": {
      "displayName": "dat nguyen",
      "photoUrl": "//lh4.googleusercontent.com/-7jXM7iRnjH4/AAAAAAAAAAI/AAAAAAAAAHM/NE-2jGew0JU/s50-c-k-no/photo.jpg",
      "userId": "115618425639390237204"
     },
     "user_tz": -420
    },
    "id": "QbTekanIq8Ia",
    "outputId": "b0f0479b-6418-4fc2-fc91-b520fd76be17"
   },
   "outputs": [
    {
     "name": "stdout",
     "output_type": "stream",
     "text": [
      "At step 0 59866.0854928\n",
      "At step 500 1556.72320744\n",
      "At step 1000 246.848946682\n",
      "At step 1500 178.598983618\n",
      "At step 2000 144.673151469\n",
      "At step 2500 117.567047792\n",
      "At step 3000 95.5477123786\n",
      "At step 3500 77.6525923813\n",
      "At step 4000 63.1090511447\n",
      "At step 4500 51.2893674331\n",
      "At step 5000 41.6833903233\n",
      "At step 5500 33.8765150713\n",
      "At step 6000 27.531788189\n",
      "At step 6500 22.3753641508\n",
      "At step 7000 18.1846859145\n",
      "At step 7500 14.7788791092\n",
      "At step 8000 12.010945295\n",
      "At step 8500 9.76141734513\n",
      "At step 9000 7.93320311148\n",
      "At step 9500 6.44739481807\n",
      "W :[[ 2.34210199]]\n",
      "b :9.8138653596\n"
     ]
    }
   ],
   "source": [
    "X_2,Y_2 = genData_model_2()\n",
    "model = model_2(X_train = X_2, Y_train = Y_2, num_step = 10000, lr = 0.000003)\n",
    "model.train()"
   ]
  },
  {
   "cell_type": "markdown",
   "metadata": {
    "colab_type": "text",
    "id": "9s-YbwmUrZvH"
   },
   "source": [
    "## **Plot data to graph**"
   ]
  },
  {
   "cell_type": "code",
   "execution_count": 34,
   "metadata": {
    "colab": {
     "autoexec": {
      "startup": false,
      "wait_interval": 0
     },
     "base_uri": "https://localhost:8080/",
     "height": 347,
     "output_extras": [
      {
       "item_id": 1
      }
     ]
    },
    "colab_type": "code",
    "executionInfo": {
     "elapsed": 696,
     "status": "ok",
     "timestamp": 1519910210168,
     "user": {
      "displayName": "Viet Bui",
      "photoUrl": "//lh3.googleusercontent.com/-YK1pt62aAys/AAAAAAAAAAI/AAAAAAAABDA/FmtS-B8ZKsM/s50-c-k-no/photo.jpg",
      "userId": "116089248152786544113"
     },
     "user_tz": -420
    },
    "id": "IwjGUrthraZh",
    "outputId": "93621266-ad12-464e-e672-2a8aeb1825b6"
   },
   "outputs": [
    {
     "data": {
      "image/png": "[encoded data removed]",
      "text/plain": [
       "<matplotlib.figure.Figure at 0x118259b90>"
      ]
     },
     "metadata": {},
     "output_type": "display_data"
    }
   ],
   "source": [
    "# Plot first 20 data point\n",
    "plt.plot(X_2[:,:20],Y_2[:,:20], \"bo\")\n",
    "plt.show()"
   ]
  },
  {
   "cell_type": "markdown",
   "metadata": {
    "colab_type": "text",
    "id": "xSZEzB8Bru_l"
   },
   "source": [
    "## **Plot loss to graph - Learning Curve**"
   ]
  },
  {
   "cell_type": "code",
   "execution_count": 39,
   "metadata": {
    "colab": {
     "autoexec": {
      "startup": false,
      "wait_interval": 0
     },
     "base_uri": "https://localhost:8080/",
     "height": 347,
     "output_extras": [
      {
       "item_id": 1
      }
     ]
    },
    "colab_type": "code",
    "executionInfo": {
     "elapsed": 618,
     "status": "ok",
     "timestamp": 1519910214774,
     "user": {
      "displayName": "Viet Bui",
      "photoUrl": "//lh3.googleusercontent.com/-YK1pt62aAys/AAAAAAAAAAI/AAAAAAAABDA/FmtS-B8ZKsM/s50-c-k-no/photo.jpg",
      "userId": "116089248152786544113"
     },
     "user_tz": -420
    },
    "id": "Zt9ZprKvrcxf",
    "outputId": "8f025223-2911-44d2-ebf1-ec4008332b58"
   },
   "outputs": [
    {
     "data": {
      "image/png": "[encoded data removed]",
      "text/plain": [
       "<matplotlib.figure.Figure at 0x119453d50>"
      ]
     },
     "metadata": {},
     "output_type": "display_data"
    }
   ],
   "source": [
    "plt.plot(model.losses)\n",
    "plt.show()"
   ]
  },
  {
   "cell_type": "code",
   "execution_count": 0,
   "metadata": {
    "colab": {
     "autoexec": {
      "startup": false,
      "wait_interval": 0
     }
    },
    "colab_type": "code",
    "collapsed": true,
    "id": "YopaKqunrw7n"
   },
   "outputs": [],
   "source": []
  },
  {
   "cell_type": "code",
   "execution_count": 0,
   "metadata": {
    "colab": {
     "autoexec": {
      "startup": false,
      "wait_interval": 0
     }
    },
    "colab_type": "code",
    "collapsed": true,
    "id": "Yiil2NA0M52F"
   },
   "outputs": [],
   "source": []
  }
 ],
 "metadata": {
  "colab": {
   "collapsed_sections": [],
   "default_view": {},
   "name": "Linear Regression.ipynb",
   "provenance": [],
   "version": "0.3.2",
   "views": {}
  },
  "kernelspec": {
   "display_name": "Python 2",
   "language": "python",
   "name": "python2"
  },
  "language_info": {
   "codemirror_mode": {
    "name": "ipython",
    "version": 2
   },
   "file_extension": ".py",
   "mimetype": "text/x-python",
   "name": "python",
   "nbconvert_exporter": "python",
   "pygments_lexer": "ipython2",
   "version": "2.7.13"
  }
 },
 "nbformat": 4,
 "nbformat_minor": 1
}
